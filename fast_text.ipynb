{
 "cells": [
  {
   "cell_type": "code",
   "execution_count": 1,
   "metadata": {
    "scrolled": true
   },
   "outputs": [
    {
     "name": "stderr",
     "output_type": "stream",
     "text": [
      "/anaconda2/envs/py36/lib/python3.6/site-packages/h5py/__init__.py:36: FutureWarning: Conversion of the second argument of issubdtype from `float` to `np.floating` is deprecated. In future, it will be treated as `np.float64 == np.dtype(float).type`.\n",
      "  from ._conv import register_converters as _register_converters\n",
      "Using TensorFlow backend.\n"
     ]
    },
    {
     "name": "stdout",
     "output_type": "stream",
     "text": [
      "start\n",
      "--- Loading data ---\n",
      "Read 431 rows of data\n",
      "Read 431 rows of label\n",
      "--- Label encoding ---\n",
      "--- Text processing ---\n"
     ]
    },
    {
     "name": "stderr",
     "output_type": "stream",
     "text": [
      "/anaconda2/envs/py36/lib/python3.6/site-packages/sklearn/preprocessing/label.py:95: DataConversionWarning: A column-vector y was passed when a 1d array was expected. Please change the shape of y to (n_samples, ), for example using ravel().\n",
      "  y = column_or_1d(y, warn=True)\n",
      "/anaconda2/envs/py36/lib/python3.6/site-packages/sklearn/preprocessing/label.py:128: DataConversionWarning: A column-vector y was passed when a 1d array was expected. Please change the shape of y to (n_samples, ), for example using ravel().\n",
      "  y = column_or_1d(y, warn=True)\n"
     ]
    },
    {
     "name": "stdout",
     "output_type": "stream",
     "text": [
      "Found 999995 word vectors.\n",
      "--- Build model ---\n"
     ]
    },
    {
     "name": "stderr",
     "output_type": "stream",
     "text": [
      "/Users/zebinkang/Github/scalable_text_analysis/cdc/src/FastText.py:194: UserWarning: Update your `GRU` call to the Keras 2 API: `GRU(128, return_sequences=True, implementation=1)`\n",
      "  m = Bidirectional(GRU(128, return_sequences=True, consume_less='mem'))(embedded_sequences)\n"
     ]
    },
    {
     "name": "stdout",
     "output_type": "stream",
     "text": [
      "_________________________________________________________________\n",
      "Layer (type)                 Output Shape              Param #   \n",
      "=================================================================\n",
      "input_1 (InputLayer)         (None, 300)               0         \n",
      "_________________________________________________________________\n",
      "embedding_2 (Embedding)      (None, 300, 300)          3741300   \n",
      "_________________________________________________________________\n",
      "bidirectional_1 (Bidirection (None, 300, 256)          329472    \n",
      "_________________________________________________________________\n",
      "attention_1 (Attention)      (None, 256)               556       \n",
      "_________________________________________________________________\n",
      "dense_1 (Dense)              (None, 6)                 1542      \n",
      "=================================================================\n",
      "Total params: 4,072,870\n",
      "Trainable params: 331,570\n",
      "Non-trainable params: 3,741,300\n",
      "_________________________________________________________________\n",
      "None\n",
      "--- Training ---\n",
      "Train on 302 samples, validate on 129 samples\n",
      "Epoch 1/100\n",
      "302/302 [==============================] - 5s 16ms/step - loss: 1.7099 - acc: 0.2815 - precision: 0.0000e+00 - recall: 0.0000e+00 - fmeasure: 0.0000e+00 - val_loss: 1.5401 - val_acc: 0.3798 - val_precision: 0.0000e+00 - val_recall: 0.0000e+00 - val_fmeasure: 0.0000e+00\n",
      "Epoch 2/100\n",
      "302/302 [==============================] - 4s 13ms/step - loss: 1.5603 - acc: 0.2947 - precision: 0.0000e+00 - recall: 0.0000e+00 - fmeasure: 0.0000e+00 - val_loss: 1.4913 - val_acc: 0.3643 - val_precision: 0.0000e+00 - val_recall: 0.0000e+00 - val_fmeasure: 0.0000e+00\n",
      "Epoch 3/100\n",
      "302/302 [==============================] - 4s 12ms/step - loss: 1.5177 - acc: 0.3742 - precision: 0.0000e+00 - recall: 0.0000e+00 - fmeasure: 0.0000e+00 - val_loss: 1.4433 - val_acc: 0.4729 - val_precision: 0.0000e+00 - val_recall: 0.0000e+00 - val_fmeasure: 0.0000e+00\n",
      "Epoch 4/100\n",
      "302/302 [==============================] - 4s 12ms/step - loss: 1.4793 - acc: 0.4603 - precision: 0.2119 - recall: 0.0033 - fmeasure: 0.0065 - val_loss: 1.4329 - val_acc: 0.4884 - val_precision: 0.4961 - val_recall: 0.0233 - val_fmeasure: 0.0444\n",
      "Epoch 5/100\n",
      "302/302 [==============================] - 4s 12ms/step - loss: 1.4359 - acc: 0.4801 - precision: 0.9576 - recall: 0.0364 - fmeasure: 0.0694 - val_loss: 1.4041 - val_acc: 0.5194 - val_precision: 0.8269 - val_recall: 0.0465 - val_fmeasure: 0.0880\n",
      "Epoch 6/100\n",
      "302/302 [==============================] - 4s 12ms/step - loss: 1.3783 - acc: 0.4868 - precision: 0.8576 - recall: 0.0993 - fmeasure: 0.1745 - val_loss: 1.3442 - val_acc: 0.5349 - val_precision: 0.5986 - val_recall: 0.1860 - val_fmeasure: 0.2785\n",
      "Epoch 7/100\n",
      "302/302 [==============================] - 4s 12ms/step - loss: 1.3197 - acc: 0.5199 - precision: 0.8102 - recall: 0.1358 - fmeasure: 0.2324 - val_loss: 1.3163 - val_acc: 0.5659 - val_precision: 0.7442 - val_recall: 0.1473 - val_fmeasure: 0.2374\n",
      "Epoch 8/100\n",
      "302/302 [==============================] - 4s 12ms/step - loss: 1.2180 - acc: 0.5828 - precision: 0.8378 - recall: 0.2086 - fmeasure: 0.3301 - val_loss: 1.1704 - val_acc: 0.6357 - val_precision: 0.5812 - val_recall: 0.2791 - val_fmeasure: 0.3676\n",
      "Epoch 9/100\n",
      "302/302 [==============================] - 4s 12ms/step - loss: 1.0958 - acc: 0.6391 - precision: 0.7589 - recall: 0.3079 - fmeasure: 0.4365 - val_loss: 1.0419 - val_acc: 0.6589 - val_precision: 0.8052 - val_recall: 0.4961 - val_fmeasure: 0.6094\n",
      "Epoch 10/100\n",
      "302/302 [==============================] - 4s 12ms/step - loss: 0.9737 - acc: 0.6325 - precision: 0.7449 - recall: 0.4967 - fmeasure: 0.5945 - val_loss: 0.9257 - val_acc: 0.6667 - val_precision: 0.7346 - val_recall: 0.5581 - val_fmeasure: 0.6328\n",
      "Epoch 11/100\n",
      "302/302 [==============================] - 4s 12ms/step - loss: 0.8740 - acc: 0.6325 - precision: 0.7289 - recall: 0.5662 - fmeasure: 0.6364 - val_loss: 0.8333 - val_acc: 0.7209 - val_precision: 0.7811 - val_recall: 0.6512 - val_fmeasure: 0.7100\n",
      "Epoch 12/100\n",
      "302/302 [==============================] - 3s 11ms/step - loss: 0.7715 - acc: 0.6954 - precision: 0.8135 - recall: 0.6358 - fmeasure: 0.7116 - val_loss: 0.8150 - val_acc: 0.7442 - val_precision: 0.7894 - val_recall: 0.6512 - val_fmeasure: 0.7118\n",
      "Epoch 13/100\n",
      "302/302 [==============================] - 4s 12ms/step - loss: 0.6970 - acc: 0.7318 - precision: 0.8093 - recall: 0.6556 - fmeasure: 0.7231 - val_loss: 0.6796 - val_acc: 0.7519 - val_precision: 0.8074 - val_recall: 0.6899 - val_fmeasure: 0.7435\n",
      "Epoch 14/100\n",
      "302/302 [==============================] - 3s 12ms/step - loss: 0.6477 - acc: 0.7219 - precision: 0.8041 - recall: 0.6424 - fmeasure: 0.7132 - val_loss: 0.6510 - val_acc: 0.7752 - val_precision: 0.8269 - val_recall: 0.7209 - val_fmeasure: 0.7701\n",
      "Epoch 15/100\n",
      "302/302 [==============================] - 3s 11ms/step - loss: 0.5915 - acc: 0.7715 - precision: 0.8589 - recall: 0.7086 - fmeasure: 0.7760 - val_loss: 0.6409 - val_acc: 0.7829 - val_precision: 0.8396 - val_recall: 0.7364 - val_fmeasure: 0.7839\n",
      "Epoch 16/100\n",
      "302/302 [==============================] - 4s 12ms/step - loss: 0.5545 - acc: 0.7947 - precision: 0.8684 - recall: 0.7483 - fmeasure: 0.8036 - val_loss: 0.5654 - val_acc: 0.8140 - val_precision: 0.8706 - val_recall: 0.7597 - val_fmeasure: 0.8110\n",
      "Epoch 17/100\n",
      "302/302 [==============================] - 4s 12ms/step - loss: 0.5267 - acc: 0.8212 - precision: 0.8957 - recall: 0.7119 - fmeasure: 0.7908 - val_loss: 0.6573 - val_acc: 0.8217 - val_precision: 0.8707 - val_recall: 0.7054 - val_fmeasure: 0.7790\n",
      "Epoch 18/100\n",
      "302/302 [==============================] - 4s 13ms/step - loss: 0.5131 - acc: 0.8411 - precision: 0.9005 - recall: 0.7351 - fmeasure: 0.8087 - val_loss: 0.5119 - val_acc: 0.8450 - val_precision: 0.8706 - val_recall: 0.7674 - val_fmeasure: 0.8152\n",
      "Epoch 19/100\n",
      "302/302 [==============================] - 4s 12ms/step - loss: 0.4460 - acc: 0.8642 - precision: 0.8967 - recall: 0.7715 - fmeasure: 0.8285 - val_loss: 0.5365 - val_acc: 0.8295 - val_precision: 0.9029 - val_recall: 0.7674 - val_fmeasure: 0.8286\n",
      "Epoch 20/100\n",
      "302/302 [==============================] - 4s 12ms/step - loss: 0.4004 - acc: 0.8675 - precision: 0.8934 - recall: 0.7980 - fmeasure: 0.8423 - val_loss: 0.5119 - val_acc: 0.8062 - val_precision: 0.8518 - val_recall: 0.7519 - val_fmeasure: 0.7982\n",
      "Epoch 21/100\n",
      "302/302 [==============================] - 4s 15ms/step - loss: 0.4217 - acc: 0.8808 - precision: 0.9169 - recall: 0.7715 - fmeasure: 0.8375 - val_loss: 0.5306 - val_acc: 0.8450 - val_precision: 0.9175 - val_recall: 0.7674 - val_fmeasure: 0.8358\n",
      "Epoch 22/100\n",
      "302/302 [==============================] - 4s 13ms/step - loss: 0.3615 - acc: 0.9007 - precision: 0.9380 - recall: 0.8344 - fmeasure: 0.8826 - val_loss: 0.4449 - val_acc: 0.8450 - val_precision: 0.9037 - val_recall: 0.8140 - val_fmeasure: 0.8563\n",
      "Epoch 23/100\n",
      "302/302 [==============================] - 4s 12ms/step - loss: 0.3393 - acc: 0.8841 - precision: 0.9138 - recall: 0.8311 - fmeasure: 0.8703 - val_loss: 0.4886 - val_acc: 0.8527 - val_precision: 0.9131 - val_recall: 0.8295 - val_fmeasure: 0.8690\n",
      "Epoch 24/100\n",
      "302/302 [==============================] - 4s 12ms/step - loss: 0.2951 - acc: 0.9305 - precision: 0.9647 - recall: 0.8874 - fmeasure: 0.9235 - val_loss: 0.3643 - val_acc: 0.8682 - val_precision: 0.9065 - val_recall: 0.8372 - val_fmeasure: 0.8704\n",
      "Epoch 25/100\n",
      "302/302 [==============================] - 4s 12ms/step - loss: 0.2916 - acc: 0.9139 - precision: 0.9424 - recall: 0.8775 - fmeasure: 0.9087 - val_loss: 0.3596 - val_acc: 0.8760 - val_precision: 0.9162 - val_recall: 0.8527 - val_fmeasure: 0.8833\n",
      "Epoch 26/100\n",
      "302/302 [==============================] - 4s 12ms/step - loss: 0.2315 - acc: 0.9470 - precision: 0.9621 - recall: 0.9238 - fmeasure: 0.9425 - val_loss: 0.4610 - val_acc: 0.8682 - val_precision: 0.8784 - val_recall: 0.8450 - val_fmeasure: 0.8613\n",
      "Epoch 27/100\n",
      "302/302 [==============================] - 4s 12ms/step - loss: 0.2285 - acc: 0.9238 - precision: 0.9380 - recall: 0.9106 - fmeasure: 0.9240 - val_loss: 0.3337 - val_acc: 0.8760 - val_precision: 0.9161 - val_recall: 0.8527 - val_fmeasure: 0.8832\n",
      "Epoch 28/100\n"
     ]
    },
    {
     "name": "stdout",
     "output_type": "stream",
     "text": [
      "302/302 [==============================] - 4s 12ms/step - loss: 0.2681 - acc: 0.9139 - precision: 0.9468 - recall: 0.8940 - fmeasure: 0.9195 - val_loss: 0.3145 - val_acc: 0.8992 - val_precision: 0.9095 - val_recall: 0.8605 - val_fmeasure: 0.8843\n",
      "Epoch 29/100\n",
      "302/302 [==============================] - 4s 12ms/step - loss: 0.2089 - acc: 0.9437 - precision: 0.9590 - recall: 0.9238 - fmeasure: 0.9411 - val_loss: 0.3726 - val_acc: 0.8915 - val_precision: 0.9319 - val_recall: 0.8605 - val_fmeasure: 0.8947\n",
      "Epoch 30/100\n",
      "302/302 [==============================] - 4s 12ms/step - loss: 0.1931 - acc: 0.9536 - precision: 0.9655 - recall: 0.9338 - fmeasure: 0.9493 - val_loss: 0.4106 - val_acc: 0.8915 - val_precision: 0.9167 - val_recall: 0.8682 - val_fmeasure: 0.8917\n",
      "Epoch 31/100\n",
      "302/302 [==============================] - 4s 12ms/step - loss: 0.1593 - acc: 0.9669 - precision: 0.9697 - recall: 0.9536 - fmeasure: 0.9615 - val_loss: 0.2486 - val_acc: 0.9225 - val_precision: 0.9415 - val_recall: 0.8915 - val_fmeasure: 0.9157\n",
      "Epoch 32/100\n",
      "302/302 [==============================] - 4s 12ms/step - loss: 0.1285 - acc: 0.9669 - precision: 0.9763 - recall: 0.9603 - fmeasure: 0.9682 - val_loss: 0.2084 - val_acc: 0.9302 - val_precision: 0.9446 - val_recall: 0.9147 - val_fmeasure: 0.9294\n",
      "Epoch 33/100\n",
      "302/302 [==============================] - 4s 12ms/step - loss: 0.0927 - acc: 0.9768 - precision: 0.9798 - recall: 0.9669 - fmeasure: 0.9733 - val_loss: 0.2605 - val_acc: 0.9147 - val_precision: 0.9360 - val_recall: 0.9070 - val_fmeasure: 0.9213\n",
      "Epoch 34/100\n",
      "302/302 [==============================] - 4s 12ms/step - loss: 0.0826 - acc: 0.9801 - precision: 0.9801 - recall: 0.9801 - fmeasure: 0.9801 - val_loss: 0.4400 - val_acc: 0.8527 - val_precision: 0.8876 - val_recall: 0.8527 - val_fmeasure: 0.8698\n",
      "Epoch 35/100\n",
      "302/302 [==============================] - 4s 12ms/step - loss: 0.2467 - acc: 0.9205 - precision: 0.9230 - recall: 0.9106 - fmeasure: 0.9167 - val_loss: 0.5113 - val_acc: 0.8062 - val_precision: 0.8114 - val_recall: 0.8062 - val_fmeasure: 0.8088\n",
      "Epoch 36/100\n",
      "302/302 [==============================] - 4s 12ms/step - loss: 0.2125 - acc: 0.9371 - precision: 0.9369 - recall: 0.9338 - fmeasure: 0.9353 - val_loss: 0.2738 - val_acc: 0.8992 - val_precision: 0.9134 - val_recall: 0.8992 - val_fmeasure: 0.9062\n",
      "Epoch 37/100\n",
      "302/302 [==============================] - 4s 13ms/step - loss: 0.1878 - acc: 0.9205 - precision: 0.9289 - recall: 0.9139 - fmeasure: 0.9213 - val_loss: 0.2878 - val_acc: 0.8760 - val_precision: 0.9161 - val_recall: 0.8605 - val_fmeasure: 0.8872\n",
      "Epoch 38/100\n",
      "302/302 [==============================] - 4s 12ms/step - loss: 0.2021 - acc: 0.9305 - precision: 0.9548 - recall: 0.9073 - fmeasure: 0.9303 - val_loss: 0.3089 - val_acc: 0.8915 - val_precision: 0.9254 - val_recall: 0.8837 - val_fmeasure: 0.9038\n",
      "Epoch 39/100\n",
      "302/302 [==============================] - 4s 12ms/step - loss: 0.1330 - acc: 0.9636 - precision: 0.9665 - recall: 0.9570 - fmeasure: 0.9617 - val_loss: 0.3273 - val_acc: 0.8915 - val_precision: 0.9257 - val_recall: 0.8760 - val_fmeasure: 0.9001\n",
      "Epoch 40/100\n",
      "302/302 [==============================] - 4s 12ms/step - loss: 0.1003 - acc: 0.9801 - precision: 0.9799 - recall: 0.9735 - fmeasure: 0.9767 - val_loss: 0.2072 - val_acc: 0.9147 - val_precision: 0.9291 - val_recall: 0.9070 - val_fmeasure: 0.9178\n",
      "Epoch 41/100\n",
      "302/302 [==============================] - 4s 12ms/step - loss: 0.0963 - acc: 0.9801 - precision: 0.9834 - recall: 0.9768 - fmeasure: 0.9801 - val_loss: 0.1975 - val_acc: 0.9302 - val_precision: 0.9376 - val_recall: 0.9302 - val_fmeasure: 0.9339\n",
      "Epoch 42/100\n",
      "302/302 [==============================] - 4s 12ms/step - loss: 0.0692 - acc: 0.9934 - precision: 0.9933 - recall: 0.9901 - fmeasure: 0.9917 - val_loss: 0.2308 - val_acc: 0.9302 - val_precision: 0.9440 - val_recall: 0.9147 - val_fmeasure: 0.9291\n",
      "Epoch 43/100\n",
      "302/302 [==============================] - 4s 12ms/step - loss: 0.0609 - acc: 0.9901 - precision: 0.9901 - recall: 0.9901 - fmeasure: 0.9901 - val_loss: 0.2433 - val_acc: 0.9225 - val_precision: 0.9442 - val_recall: 0.9225 - val_fmeasure: 0.9332\n",
      "Epoch 44/100\n",
      "302/302 [==============================] - 4s 12ms/step - loss: 0.0464 - acc: 0.9901 - precision: 0.9901 - recall: 0.9901 - fmeasure: 0.9901 - val_loss: 0.2351 - val_acc: 0.9225 - val_precision: 0.9296 - val_recall: 0.9225 - val_fmeasure: 0.9260\n",
      "Epoch 45/100\n",
      "302/302 [==============================] - 4s 12ms/step - loss: 0.0352 - acc: 0.9934 - precision: 0.9967 - recall: 0.9934 - fmeasure: 0.9950 - val_loss: 0.2317 - val_acc: 0.9225 - val_precision: 0.9370 - val_recall: 0.9225 - val_fmeasure: 0.9297\n",
      "Epoch 46/100\n",
      "302/302 [==============================] - 3s 12ms/step - loss: 0.0276 - acc: 1.0000 - precision: 1.0000 - recall: 0.9967 - fmeasure: 0.9983 - val_loss: 0.2534 - val_acc: 0.9225 - val_precision: 0.9296 - val_recall: 0.9225 - val_fmeasure: 0.9260\n",
      "Epoch 47/100\n",
      "302/302 [==============================] - 3s 11ms/step - loss: 0.0211 - acc: 1.0000 - precision: 1.0000 - recall: 1.0000 - fmeasure: 1.0000 - val_loss: 0.2633 - val_acc: 0.9225 - val_precision: 0.9295 - val_recall: 0.9225 - val_fmeasure: 0.9260\n",
      "Epoch 48/100\n",
      "302/302 [==============================] - 3s 11ms/step - loss: 0.0168 - acc: 1.0000 - precision: 1.0000 - recall: 1.0000 - fmeasure: 1.0000 - val_loss: 0.2674 - val_acc: 0.9225 - val_precision: 0.9295 - val_recall: 0.9225 - val_fmeasure: 0.9260\n",
      "Epoch 49/100\n",
      "302/302 [==============================] - 3s 12ms/step - loss: 0.0141 - acc: 1.0000 - precision: 1.0000 - recall: 1.0000 - fmeasure: 1.0000 - val_loss: 0.2760 - val_acc: 0.9302 - val_precision: 0.9377 - val_recall: 0.9302 - val_fmeasure: 0.9340\n",
      "Epoch 50/100\n",
      "302/302 [==============================] - 4s 12ms/step - loss: 0.0121 - acc: 1.0000 - precision: 1.0000 - recall: 1.0000 - fmeasure: 1.0000 - val_loss: 0.2672 - val_acc: 0.9302 - val_precision: 0.9449 - val_recall: 0.9302 - val_fmeasure: 0.9375\n",
      "Epoch 51/100\n",
      "302/302 [==============================] - 4s 12ms/step - loss: 0.0107 - acc: 1.0000 - precision: 1.0000 - recall: 1.0000 - fmeasure: 1.0000 - val_loss: 0.2708 - val_acc: 0.9302 - val_precision: 0.9449 - val_recall: 0.9302 - val_fmeasure: 0.9375\n",
      "--- Prediction ---\n",
      "0.9302325581395349 0.9442360595215199 0.9302325572154319 0.9371231272239093 0.9916883348344325\n",
      "--- Save model ---\n"
     ]
    },
    {
     "ename": "NameError",
     "evalue": "name 'cPickle' is not defined",
     "output_type": "error",
     "traceback": [
      "\u001b[0;31m---------------------------------------------------------------------------\u001b[0m",
      "\u001b[0;31mNameError\u001b[0m                                 Traceback (most recent call last)",
      "\u001b[0;32m<ipython-input-1-2e71f645b8f9>\u001b[0m in \u001b[0;36m<module>\u001b[0;34m()\u001b[0m\n\u001b[1;32m      9\u001b[0m train(data_home+'test/data/data.txt', \n\u001b[1;32m     10\u001b[0m      \u001b[0mdata_home\u001b[0m\u001b[0;34m+\u001b[0m\u001b[0;34m'test/data/label.txt'\u001b[0m\u001b[0;34m,\u001b[0m\u001b[0;34m\u001b[0m\u001b[0m\n\u001b[0;32m---> 11\u001b[0;31m      data_home+'test/data/wiki-news-300d-1M.vec')\n\u001b[0m\u001b[1;32m     12\u001b[0m \u001b[0;31m# embedding_layer = build_embedding(wemb_file)\u001b[0m\u001b[0;34m\u001b[0m\u001b[0;34m\u001b[0m\u001b[0m\n",
      "\u001b[0;32m~/Github/scalable_text_analysis/cdc/src/FastText.py\u001b[0m in \u001b[0;36mtrain\u001b[0;34m(f_path, l_path, wemb_file)\u001b[0m\n\u001b[1;32m    224\u001b[0m     \u001b[0mmodel\u001b[0m\u001b[0;34m.\u001b[0m\u001b[0msave_weights\u001b[0m\u001b[0;34m(\u001b[0m\u001b[0;34m'model_weights.h5'\u001b[0m\u001b[0;34m,\u001b[0m \u001b[0moverwrite\u001b[0m\u001b[0;34m=\u001b[0m\u001b[0;32mTrue\u001b[0m\u001b[0;34m)\u001b[0m\u001b[0;34m\u001b[0m\u001b[0m\n\u001b[1;32m    225\u001b[0m     \u001b[0;31m# cPickle.dump(encoder, open('model_encoder.pkl', 'wb'))\u001b[0m\u001b[0;34m\u001b[0m\u001b[0;34m\u001b[0m\u001b[0m\n\u001b[0;32m--> 226\u001b[0;31m \u001b[0;34m\u001b[0m\u001b[0m\n\u001b[0m\u001b[1;32m    227\u001b[0m \u001b[0;32mdef\u001b[0m \u001b[0mset_keras_backend\u001b[0m\u001b[0;34m(\u001b[0m\u001b[0mbackend\u001b[0m\u001b[0;34m)\u001b[0m\u001b[0;34m:\u001b[0m\u001b[0;34m\u001b[0m\u001b[0m\n\u001b[1;32m    228\u001b[0m     \u001b[0;32mif\u001b[0m \u001b[0mK\u001b[0m\u001b[0;34m.\u001b[0m\u001b[0mbackend\u001b[0m\u001b[0;34m(\u001b[0m\u001b[0;34m)\u001b[0m \u001b[0;34m!=\u001b[0m \u001b[0mbackend\u001b[0m\u001b[0;34m:\u001b[0m\u001b[0;34m\u001b[0m\u001b[0m\n",
      "\u001b[0;31mNameError\u001b[0m: name 'cPickle' is not defined"
     ]
    }
   ],
   "source": [
    "from cdc.src.FastText import *\n",
    "\n",
    "set_keras_backend(\"tensorflow\")\n",
    "data_home = '/Users/zebinkang/Github/scalable_text_analysis/' # os.getcwd()\n",
    "wemb_file=data_home+'/test/data/crawl-300d-2M.vec'\n",
    "\n",
    "train(data_home+'test/data/data.txt', \n",
    "     data_home+'test/data/label.txt',\n",
    "     data_home+'test/data/wiki-news-300d-1M.vec')"
   ]
  },
  {
   "cell_type": "code",
   "execution_count": null,
   "metadata": {},
   "outputs": [],
   "source": []
  },
  {
   "cell_type": "code",
   "execution_count": null,
   "metadata": {},
   "outputs": [],
   "source": []
  }
 ],
 "metadata": {
  "kernelspec": {
   "display_name": "Python 3",
   "language": "python",
   "name": "python3"
  },
  "language_info": {
   "codemirror_mode": {
    "name": "ipython",
    "version": 3
   },
   "file_extension": ".py",
   "mimetype": "text/x-python",
   "name": "python",
   "nbconvert_exporter": "python",
   "pygments_lexer": "ipython3",
   "version": "3.6.5"
  }
 },
 "nbformat": 4,
 "nbformat_minor": 2
}
